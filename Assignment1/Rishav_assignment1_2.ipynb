{
 "cells": [
  {
   "cell_type": "code",
   "execution_count": 1,
   "id": "f2180d67",
   "metadata": {},
   "outputs": [
    {
     "name": "stdout",
     "output_type": "stream",
     "text": [
      "Image 1 extracted.\n",
      "Image 2 extracted.\n",
      "Image 3 extracted.\n",
      "Image 4 extracted.\n",
      "Image 5 extracted.\n",
      "Image 6 extracted.\n",
      "Image 7 extracted.\n",
      "Image 8 extracted.\n",
      "Image 9 extracted.\n",
      "Image 10 extracted.\n"
     ]
    }
   ],
   "source": [
    "import pandas as pd\n",
    "import urllib.request\n",
    "import cv2\n",
    "import numpy as np\n",
    "df_2=pd.read_csv('MovieGenre.csv', encoding='latin1')\n",
    "columns = ['Title','Poster']\n",
    "df_3=df_2[columns].dropna(axis=0)\n",
    "df_3.reset_index(drop=True, inplace=True)\n",
    "def url_to_image(url):\n",
    "    try:\n",
    "        resp = urllib.request.urlopen(url)\n",
    "        img = np.asarray(bytearray(resp.read()), dtype=\"uint8\")\n",
    "        img = cv2.imdecode(img, cv2.IMREAD_COLOR)\n",
    "        return img\n",
    "    except urllib.error.HTTPError as e:\n",
    "        return None\n",
    "image_arrays = []\n",
    "counter = 0\n",
    "\n",
    "for i, link in enumerate(df_3['Poster'][:12]):\n",
    "    try:\n",
    "        img_array = url_to_image(link)\n",
    "        if img_array is not None:\n",
    "            image_arrays.append(img_array)\n",
    "            counter += 1\n",
    "            print(f\"Image {counter} extracted.\")\n",
    "    except Exception as e:\n",
    "        print(f\"Failed to fetch image from {link}. Error: {e}\")\n",
    "np.save(\"image_arrays.npy\",image_arrays)"
   ]
  },
  {
   "cell_type": "code",
   "execution_count": null,
   "id": "6feff120",
   "metadata": {},
   "outputs": [],
   "source": []
  }
 ],
 "metadata": {
  "kernelspec": {
   "display_name": "Python 3 (ipykernel)",
   "language": "python",
   "name": "python3"
  },
  "language_info": {
   "codemirror_mode": {
    "name": "ipython",
    "version": 3
   },
   "file_extension": ".py",
   "mimetype": "text/x-python",
   "name": "python",
   "nbconvert_exporter": "python",
   "pygments_lexer": "ipython3",
   "version": "3.10.9"
  }
 },
 "nbformat": 4,
 "nbformat_minor": 5
}
