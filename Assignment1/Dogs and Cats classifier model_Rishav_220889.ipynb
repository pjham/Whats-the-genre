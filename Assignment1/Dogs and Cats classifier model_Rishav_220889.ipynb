{
 "cells": [
  {
   "cell_type": "code",
   "execution_count": 2,
   "id": "e172b3ea",
   "metadata": {},
   "outputs": [],
   "source": [
    "import numpy as np\n",
    "import tensorflow as tf\n",
    "from tensorflow import keras\n",
    "from tensorflow.keras import layers\n",
    "import matplotlib.pyplot as plt"
   ]
  },
  {
   "cell_type": "code",
   "execution_count": 3,
   "id": "47387c1e",
   "metadata": {},
   "outputs": [],
   "source": [
    "# Set the seed for reproducibility\n",
    "tf.random.set_seed(42)"
   ]
  },
  {
   "cell_type": "code",
   "execution_count": 4,
   "id": "fbbb9b92",
   "metadata": {},
   "outputs": [],
   "source": [
    "train_path = r'C:\\Users\\Lenovo\\Desktop\\training_set'\n",
    "test_path = r'C:\\Users\\Lenovo\\Desktop\\test_set'"
   ]
  },
  {
   "cell_type": "code",
   "execution_count": 5,
   "id": "a834dff1",
   "metadata": {},
   "outputs": [],
   "source": [
    "# Data preprocessing and augmentation\n",
    "train_datagen = keras.preprocessing.image.ImageDataGenerator(\n",
    "    rescale=1./255,\n",
    "    shear_range=0.2,\n",
    "    zoom_range=0.2,\n",
    "    horizontal_flip=True\n",
    ")\n",
    "\n",
    "test_datagen = keras.preprocessing.image.ImageDataGenerator(rescale=1./255)"
   ]
  },
  {
   "cell_type": "code",
   "execution_count": 6,
   "id": "26a55e3a",
   "metadata": {},
   "outputs": [
    {
     "name": "stdout",
     "output_type": "stream",
     "text": [
      "Found 8005 images belonging to 2 classes.\n",
      "Found 2023 images belonging to 2 classes.\n"
     ]
    }
   ],
   "source": [
    "# Generate batches of augmented training and testing data\n",
    "train_generator = train_datagen.flow_from_directory(\n",
    "    train_path,\n",
    "    target_size=(224, 224),\n",
    "    batch_size=32,\n",
    "    class_mode='binary'\n",
    ")\n",
    "\n",
    "test_generator = test_datagen.flow_from_directory(\n",
    "    test_path,\n",
    "    target_size=(224, 224),\n",
    "    batch_size=32,\n",
    "    class_mode='binary'\n",
    ")"
   ]
  },
  {
   "cell_type": "code",
   "execution_count": 7,
   "id": "276035c8",
   "metadata": {},
   "outputs": [],
   "source": [
    "# Build the CNN model\n",
    "model = keras.Sequential([\n",
    "    layers.Conv2D(32, (3, 3), activation='relu', input_shape=(224, 224, 3)),\n",
    "    layers.MaxPooling2D((2, 2)),\n",
    "    layers.Conv2D(64, (3, 3), activation='relu'),\n",
    "    layers.MaxPooling2D((2, 2)),\n",
    "    layers.Conv2D(128, (3, 3), activation='relu'),\n",
    "    layers.MaxPooling2D((2, 2)),\n",
    "    layers.Flatten(),\n",
    "    layers.Dense(128, activation='relu'),\n",
    "    layers.Dense(1, activation='sigmoid')\n",
    "])"
   ]
  },
  {
   "cell_type": "code",
   "execution_count": 9,
   "id": "ed24ad3a",
   "metadata": {},
   "outputs": [],
   "source": [
    "# Compile the model\n",
    "model.compile(optimizer='adam',\n",
    "              loss='binary_crossentropy',\n",
    "              metrics=['accuracy'])"
   ]
  },
  {
   "cell_type": "code",
   "execution_count": 10,
   "id": "676ca129",
   "metadata": {},
   "outputs": [
    {
     "name": "stdout",
     "output_type": "stream",
     "text": [
      "Epoch 1/10\n",
      "250/250 [==============================] - 344s 1s/step - loss: 0.6879 - accuracy: 0.5584 - val_loss: 0.6507 - val_accuracy: 0.6052\n",
      "Epoch 2/10\n",
      "250/250 [==============================] - 289s 1s/step - loss: 0.6194 - accuracy: 0.6553 - val_loss: 0.6122 - val_accuracy: 0.6602\n",
      "Epoch 3/10\n",
      "250/250 [==============================] - 288s 1s/step - loss: 0.5667 - accuracy: 0.7104 - val_loss: 0.5097 - val_accuracy: 0.7480\n",
      "Epoch 4/10\n",
      "250/250 [==============================] - 290s 1s/step - loss: 0.5132 - accuracy: 0.7473 - val_loss: 0.4701 - val_accuracy: 0.7743\n",
      "Epoch 5/10\n",
      "250/250 [==============================] - 290s 1s/step - loss: 0.4770 - accuracy: 0.7767 - val_loss: 0.4691 - val_accuracy: 0.7927\n",
      "Epoch 6/10\n",
      "250/250 [==============================] - 295s 1s/step - loss: 0.4469 - accuracy: 0.7922 - val_loss: 0.4787 - val_accuracy: 0.7768\n",
      "Epoch 7/10\n",
      "250/250 [==============================] - 340s 1s/step - loss: 0.4165 - accuracy: 0.8033 - val_loss: 0.4464 - val_accuracy: 0.7966\n",
      "Epoch 8/10\n",
      "250/250 [==============================] - 353s 1s/step - loss: 0.3966 - accuracy: 0.8158 - val_loss: 0.4189 - val_accuracy: 0.8130\n",
      "Epoch 9/10\n",
      "250/250 [==============================] - 292s 1s/step - loss: 0.3743 - accuracy: 0.8336 - val_loss: 0.4419 - val_accuracy: 0.8120\n",
      "Epoch 10/10\n",
      "250/250 [==============================] - 294s 1s/step - loss: 0.3589 - accuracy: 0.8426 - val_loss: 0.4381 - val_accuracy: 0.8130\n"
     ]
    }
   ],
   "source": [
    "# Train the model and collect accuracy values\n",
    "history = model.fit(\n",
    "    train_generator,\n",
    "    steps_per_epoch=train_generator.samples // train_generator.batch_size,\n",
    "    epochs=10,\n",
    "    validation_data=test_generator,\n",
    "    validation_steps=test_generator.samples // test_generator.batch_size\n",
    ")"
   ]
  },
  {
   "cell_type": "code",
   "execution_count": 11,
   "id": "04d1c3be",
   "metadata": {},
   "outputs": [
    {
     "name": "stdout",
     "output_type": "stream",
     "text": [
      "64/64 - 15s - loss: 0.4377 - accuracy: 0.8131 - 15s/epoch - 239ms/step\n",
      "Test accuracy: 0.8131487965583801\n"
     ]
    }
   ],
   "source": [
    "# Evaluate the model\n",
    "test_loss, test_acc = model.evaluate(test_generator, verbose=2)\n",
    "print('Test accuracy:', test_acc)"
   ]
  },
  {
   "cell_type": "code",
   "execution_count": 12,
   "id": "0eff4152",
   "metadata": {},
   "outputs": [
    {
     "data": {
      "image/png": "[encoded data removed]",
      "text/plain": [
       "<Figure size 640x480 with 1 Axes>"
      ]
     },
     "metadata": {},
     "output_type": "display_data"
    }
   ],
   "source": [
    "# Plot the accuracy graph\n",
    "plt.plot(history.history['accuracy'], label='Training Accuracy')\n",
    "plt.plot(history.history['val_accuracy'], label='Validation Accuracy')\n",
    "plt.xlabel('Epoch')\n",
    "plt.ylabel('Accuracy')\n",
    "plt.title('Model Accuracy')\n",
    "plt.legend()\n",
    "plt.show()"
   ]
  },
  {
   "cell_type": "code",
   "execution_count": 14,
   "id": "a2738e57",
   "metadata": {},
   "outputs": [],
   "source": [
    "# Save the model\n",
    "model.save('dog_cat_classifier_model.h5')"
   ]
  },
  {
   "cell_type": "code",
   "execution_count": null,
   "id": "a11698d5",
   "metadata": {},
   "outputs": [],
   "source": []
  }
 ],
 "metadata": {
  "kernelspec": {
   "display_name": "Python 3 (ipykernel)",
   "language": "python",
   "name": "python3"
  },
  "language_info": {
   "codemirror_mode": {
    "name": "ipython",
    "version": 3
   },
   "file_extension": ".py",
   "mimetype": "text/x-python",
   "name": "python",
   "nbconvert_exporter": "python",
   "pygments_lexer": "ipython3",
   "version": "3.10.9"
  }
 },
 "nbformat": 4,
 "nbformat_minor": 5
}
